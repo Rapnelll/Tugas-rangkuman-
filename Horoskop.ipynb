{
  "nbformat": 4,
  "nbformat_minor": 0,
  "metadata": {
    "colab": {
      "provenance": [],
      "authorship_tag": "ABX9TyPg4aWeevOorfQDR37Ka980",
      "include_colab_link": true
    },
    "kernelspec": {
      "name": "python3",
      "display_name": "Python 3"
    },
    "language_info": {
      "name": "python"
    }
  },
  "cells": [
    {
      "cell_type": "markdown",
      "metadata": {
        "id": "view-in-github",
        "colab_type": "text"
      },
      "source": [
        "<a href=\"https://colab.research.google.com/github/Rapnelll/Tugas-rangkuman-/blob/main/Horoskop.ipynb\" target=\"_parent\"><img src=\"https://colab.research.google.com/assets/colab-badge.svg\" alt=\"Open In Colab\"/></a>"
      ]
    },
    {
      "cell_type": "code",
      "execution_count": null,
      "metadata": {
        "id": "QDj-2dpu71Hu",
        "colab": {
          "base_uri": "https://localhost:8080/"
        },
        "outputId": "2e5759b7-eb46-4616-af53-01076fc1754e"
      },
      "outputs": [
        {
          "output_type": "stream",
          "name": "stdout",
          "text": [
            "masukan nama anda : Gsh\n",
            "masukan masa depan anda : Anu\n",
            "masukan tanggal lahir anda:26\n",
            "masukan bulan kelahiran anda :November \n",
            "Gsh dengan Anu sesuai bulan 26 sangat cocok\n"
          ]
        }
      ],
      "source": [
        "nama_anda = input(\"masukan nama anda : \")\n",
        "pasangan = input(\"masukan masa depan anda : \")\n",
        "lahir = input(\"masukan tanggal lahir anda:\")\n",
        "lahir_pasangan = input(\"masukan bulan kelahiran anda :\")\n",
        "hasil = (nama_anda + \" dengan \" + pasangan +\" sesuai bulan \" + lahir +\" sangat cocok\")\n",
        "print(hasil)"
      ]
    },
    {
      "cell_type": "code",
      "source": [],
      "metadata": {
        "id": "WlApIsi3QflQ"
      },
      "execution_count": null,
      "outputs": []
    }
  ]
}